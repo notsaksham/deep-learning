{
 "cells": [
  {
   "cell_type": "code",
   "execution_count": 2,
   "metadata": {},
   "outputs": [
    {
     "name": "stderr",
     "output_type": "stream",
     "text": [
      "Using TensorFlow backend.\n"
     ]
    }
   ],
   "source": [
    "from keras import  models \n",
    "from keras import layers\n",
    "from keras import optimizers\n",
    "from keras.datasets import imdb\n",
    "import numpy as np"
   ]
  },
  {
   "cell_type": "code",
   "execution_count": 3,
   "metadata": {
    "scrolled": true
   },
   "outputs": [],
   "source": [
    "(train_data, train_labels), (test_data, test_labels) = imdb.load_data(num_words=10000)"
   ]
  },
  {
   "cell_type": "code",
   "execution_count": 4,
   "metadata": {},
   "outputs": [],
   "source": [
    "def vectorize_sequences(sequences, dimension=10000):\n",
    "    results = np.zeros((len(sequences), dimension))\n",
    "    for i, sequence in enumerate(sequences):\n",
    "        results[i, sequence] = 1.\n",
    "    return results\n",
    "\n",
    "x_train=vectorize_sequences(train_data)\n",
    "x_test=vectorize_sequences(train_data)\n",
    "y_train=np.asarray(train_labels).astype('float32')\n",
    "y_test=np.asarray(test_labels).astype('float32')"
   ]
  },
  {
   "cell_type": "code",
   "execution_count": 6,
   "metadata": {},
   "outputs": [],
   "source": [
    "model=models.Sequential()\n",
    "model.add(layers.Dense(16,activation='relu',input_shape=(10000,)))\n",
    "model.add(layers.Dense(16))\n",
    "model.add(layers.Dense(16,activation='relu'))\n",
    "model.add(layers.Dense(16))\n",
    "model.add(layers.Dense(16,activation='relu'))\n",
    "model.add(layers.Dense(16))\n",
    "model.add(layers.Dense(16,activation='relu'))\n",
    "model.add(layers.Dense(1,activation='sigmoid'))"
   ]
  },
  {
   "cell_type": "code",
   "execution_count": 7,
   "metadata": {},
   "outputs": [],
   "source": [
    "model.compile(optimizer='rmsprop',loss='binary_crossentropy',metrics=['accuracy'])"
   ]
  },
  {
   "cell_type": "code",
   "execution_count": 8,
   "metadata": {},
   "outputs": [
    {
     "name": "stdout",
     "output_type": "stream",
     "text": [
      "WARNING:tensorflow:From /home/saksham/anaconda3/lib/python3.7/site-packages/tensorflow/python/ops/math_ops.py:3066: to_int32 (from tensorflow.python.ops.math_ops) is deprecated and will be removed in a future version.\n",
      "Instructions for updating:\n",
      "Use tf.cast instead.\n",
      "Epoch 1/4\n",
      "25000/25000 [==============================] - 2s 72us/step - loss: 0.4612 - acc: 0.7914\n",
      "Epoch 2/4\n",
      "25000/25000 [==============================] - 1s 53us/step - loss: 0.2487 - acc: 0.9048\n",
      "Epoch 3/4\n",
      "25000/25000 [==============================] - 1s 52us/step - loss: 0.1932 - acc: 0.9284\n",
      "Epoch 4/4\n",
      "25000/25000 [==============================] - 1s 53us/step - loss: 0.1530 - acc: 0.9424\n",
      "25000/25000 [==============================] - 1s 53us/step\n",
      "[2.2229630423355102, 0.49604]\n"
     ]
    }
   ],
   "source": [
    "model.fit(x_train,y_train,epochs=4,batch_size=512)\n",
    "results=model.evaluate(x_test,y_test)\n",
    "print(results)"
   ]
  }
 ],
 "metadata": {
  "kernelspec": {
   "display_name": "Python 3",
   "language": "python",
   "name": "python3"
  },
  "language_info": {
   "codemirror_mode": {
    "name": "ipython",
    "version": 3
   },
   "file_extension": ".py",
   "mimetype": "text/x-python",
   "name": "python",
   "nbconvert_exporter": "python",
   "pygments_lexer": "ipython3",
   "version": "3.7.3"
  }
 },
 "nbformat": 4,
 "nbformat_minor": 2
}
